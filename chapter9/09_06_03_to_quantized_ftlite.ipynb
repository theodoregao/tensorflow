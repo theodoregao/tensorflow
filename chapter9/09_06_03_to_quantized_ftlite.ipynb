{
 "cells": [
  {
   "cell_type": "code",
   "execution_count": null,
   "metadata": {},
   "outputs": [],
   "source": [
    "import matplotlib as mpl\n",
    "import matplotlib.pyplot as plt\n",
    "%matplotlib inline\n",
    "import numpy as np\n",
    "import sklearn\n",
    "import pandas as pd\n",
    "import os\n",
    "import sys\n",
    "import time\n",
    "import tensorflow as tf\n",
    "\n",
    "from tensorflow import keras\n",
    "\n",
    "print(tf.__version__)\n",
    "print(sys.version_info)\n",
    "for module in mpl, np, pd, sklearn, tf, keras:\n",
    "    print(module.__name__, module.__version__)\n"
   ]
  },
  {
   "cell_type": "code",
   "execution_count": null,
   "metadata": {},
   "outputs": [],
   "source": [
    "loaded_keras_model = keras.models.load_model('../temp/outputs/09_01_tf_keras_save_model_and_weights/fashion_minist_model.h5')\n",
    "loaded_keras_model(np.ones((1, 28, 28)))"
   ]
  },
  {
   "cell_type": "code",
   "execution_count": null,
   "metadata": {},
   "outputs": [],
   "source": [
    "keras_to_tflite_converter = tf.lite.TFLiteConverter.from_keras_model(loaded_keras_model)\n",
    "keras_to_tflite_converter.optimizations = [tf.lite.Optimize.OPTIMIZE_FOR_SIZE]\n",
    "keras_tflite = keras_to_tflite_converter.convert()"
   ]
  },
  {
   "cell_type": "code",
   "execution_count": null,
   "metadata": {},
   "outputs": [],
   "source": [
    "if not os.path.exists('../temp/outputs/09_06_to_ftlite'):\n",
    "    os.mkdir('../temp/outputs/09_06_to_ftlite')\n",
    "with open('../temp/outputs/09_06_to_ftlite/keras_tflite_opt', 'wb') as f:\n",
    "    f.write(keras_tflite)"
   ]
  },
  {
   "cell_type": "code",
   "execution_count": null,
   "metadata": {},
   "outputs": [],
   "source": [
    "run_model = tf.function(lambda x : loaded_keras_model(x))\n",
    "keras_concrete_func = run_model.get_concrete_function(\n",
    "    tf.TensorSpec(loaded_keras_model.inputs[0].shape,\n",
    "                  loaded_keras_model.inputs[0].dtype))"
   ]
  },
  {
   "cell_type": "code",
   "execution_count": null,
   "metadata": {},
   "outputs": [],
   "source": [
    "keras_concrete_func(tf.constant(np.ones((1, 28, 28), dtype = np.float32)))"
   ]
  },
  {
   "cell_type": "code",
   "execution_count": null,
   "metadata": {},
   "outputs": [],
   "source": [
    "concrete_func_to_tflite_converter = tf.lite.TFLiteConverter.from_concrete_functions([keras_concrete_func])\n",
    "concrete_func_to_tflite_converter.optimizations = [tf.lite.Optimize.OPTIMIZE_FOR_SIZE]\n",
    "concrete_func_tflite = concrete_func_to_tflite_converter.convert()"
   ]
  },
  {
   "cell_type": "code",
   "execution_count": null,
   "metadata": {},
   "outputs": [],
   "source": [
    "with open('../temp/outputs/09_06_to_ftlite/concrete_func_tflite_opt', 'wb') as f:\n",
    "    f.write(keras_tflite)"
   ]
  },
  {
   "cell_type": "code",
   "execution_count": null,
   "metadata": {},
   "outputs": [],
   "source": [
    "saved_model_to_tflite_converter = tf.lite.TFLiteConverter.from_saved_model('../temp/outputs/09_03_tf_keras_save_model/keras_saved_graph')\n",
    "saved_model_to_tflite_converter.optimizations = [tf.lite.Optimize.OPTIMIZE_FOR_SIZE]\n",
    "saved_model_tflilte = saved_model_to_tflite_converter.convert()"
   ]
  },
  {
   "cell_type": "code",
   "execution_count": null,
   "metadata": {},
   "outputs": [],
   "source": [
    "with open('../temp/outputs/09_06_to_ftlite/saved_model_tflite_opt', 'wb') as f:\n",
    "    f.write(keras_tflite)"
   ]
  },
  {
   "cell_type": "code",
   "execution_count": null,
   "metadata": {},
   "outputs": [],
   "source": []
  }
 ],
 "metadata": {
  "kernelspec": {
   "display_name": "Python 3",
   "language": "python",
   "name": "python3"
  },
  "language_info": {
   "codemirror_mode": {
    "name": "ipython",
    "version": 3
   },
   "file_extension": ".py",
   "mimetype": "text/x-python",
   "name": "python",
   "nbconvert_exporter": "python",
   "pygments_lexer": "ipython3",
   "version": "3.6.9"
  }
 },
 "nbformat": 4,
 "nbformat_minor": 2
}
