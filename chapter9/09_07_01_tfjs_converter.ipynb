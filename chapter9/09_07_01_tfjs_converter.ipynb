{
 "cells": [
  {
   "cell_type": "code",
   "execution_count": null,
   "metadata": {},
   "outputs": [],
   "source": [
    "!tensorflowjs_converter --help"
   ]
  },
  {
   "cell_type": "code",
   "execution_count": null,
   "metadata": {},
   "outputs": [],
   "source": [
    "!tensorflowjs_converter --input_format keras \\\n",
    "    --output_format tfjs_layers_model \\\n",
    "    ../temp/outputs/09_01_tf_keras_save_model_and_weights/fashion_minist_model.h5 \\\n",
    "    ../temp/outputs/09_07_tfjs_converter/keras_to_tfjs_layers"
   ]
  },
  {
   "cell_type": "code",
   "execution_count": null,
   "metadata": {},
   "outputs": [],
   "source": [
    "!tensorflowjs_converter --input_format keras \\\n",
    "    --output_format tfjs_graph_model \\\n",
    "    ../temp/outputs/09_01_tf_keras_save_model_and_weights/fashion_minist_model.h5 \\\n",
    "    ../temp/outputs/09_07_tfjs_converter/keras_to_tfjs_graph"
   ]
  },
  {
   "cell_type": "code",
   "execution_count": null,
   "metadata": {},
   "outputs": [],
   "source": [
    "!tensorflowjs_converter --input_format tf_saved_model \\\n",
    "    --output_format tfjs_graph_model \\\n",
    "    ../temp/outputs/09_03_tf_keras_save_model/keras_saved_graph \\\n",
    "    ../temp/outputs/09_07_tfjs_converter/saved_model_to_tfjs_model"
   ]
  },
  {
   "cell_type": "code",
   "execution_count": null,
   "metadata": {},
   "outputs": [],
   "source": []
  }
 ],
 "metadata": {
  "kernelspec": {
   "display_name": "Python 3",
   "language": "python",
   "name": "python3"
  },
  "language_info": {
   "codemirror_mode": {
    "name": "ipython",
    "version": 3
   },
   "file_extension": ".py",
   "mimetype": "text/x-python",
   "name": "python",
   "nbconvert_exporter": "python",
   "pygments_lexer": "ipython3",
   "version": "3.6.9"
  }
 },
 "nbformat": 4,
 "nbformat_minor": 2
}
