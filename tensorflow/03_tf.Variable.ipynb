{
 "cells": [
  {
   "cell_type": "code",
   "execution_count": null,
   "metadata": {},
   "outputs": [],
   "source": [
    "import tensorflow as tf"
   ]
  },
  {
   "cell_type": "code",
   "execution_count": null,
   "metadata": {},
   "outputs": [],
   "source": [
    "weights = tf.Variable(tf.random.normal([2, 3], mean=1, stddev=2))\n",
    "print(weights)"
   ]
  },
  {
   "cell_type": "code",
   "execution_count": null,
   "metadata": {},
   "outputs": [],
   "source": [
    "bias = tf.Variable(tf.zeros([3]))\n",
    "print(bias)"
   ]
  },
  {
   "cell_type": "code",
   "execution_count": null,
   "metadata": {},
   "outputs": [],
   "source": [
    "print(weights.value())"
   ]
  },
  {
   "cell_type": "code",
   "execution_count": null,
   "metadata": {},
   "outputs": [],
   "source": [
    "weights.assign(tf.random.uniform([2, 3]))\n",
    "print(weights)"
   ]
  },
  {
   "cell_type": "code",
   "execution_count": null,
   "metadata": {},
   "outputs": [],
   "source": [
    "bias.assign_add(tf.ones([3]))\n",
    "print(bias)"
   ]
  },
  {
   "cell_type": "code",
   "execution_count": null,
   "metadata": {},
   "outputs": [],
   "source": [
    "# tf.multiple\n",
    "a = tf.Variable([[1, 2, 3], [4, 5, 6]])\n",
    "b = tf.Variable(2)\n",
    "a_b = tf.multiply(a, b)\n",
    "print(a_b)\n",
    "\n",
    "a = tf.Variable([[1, 2, 3], [4, 5, 6]])\n",
    "b = tf.Variable([[1, 2, 3]])\n",
    "a_b = a * b\n",
    "print(a_b)\n",
    "\n",
    "a = tf.Variable([[1, 2, 3], [4, 5, 6]])\n",
    "b = tf.Variable([[1, 2, 3], [4, 5, 6]])\n",
    "a_b = a * b\n",
    "print(a_b)"
   ]
  },
  {
   "cell_type": "code",
   "execution_count": null,
   "metadata": {},
   "outputs": [],
   "source": [
    "# matrix multiply\n",
    "a = tf.Variable([[1, 2, 3], [4, 5, 6]])\n",
    "b = tf.Variable([[1, 2], [3, 4], [5, 6]])\n",
    "a_b = a @ b\n",
    "print(a_b)"
   ]
  },
  {
   "cell_type": "code",
   "execution_count": null,
   "metadata": {},
   "outputs": [],
   "source": [
    "# matrix transpose\n",
    "a = tf.Variable([[1, 2, 3], [4, 5, 6]])\n",
    "b = tf.transpose(a)\n",
    "print(a @ b)"
   ]
  },
  {
   "cell_type": "code",
   "execution_count": null,
   "metadata": {},
   "outputs": [],
   "source": [
    "# to python array\n",
    "t = tf.Variable([[1, 2, 3], [4, 5, 6]])\n",
    "t.numpy()"
   ]
  },
  {
   "cell_type": "code",
   "execution_count": null,
   "metadata": {},
   "outputs": [],
   "source": []
  }
 ],
 "metadata": {
  "kernelspec": {
   "display_name": "Python 3",
   "language": "python",
   "name": "python3"
  },
  "language_info": {
   "codemirror_mode": {
    "name": "ipython",
    "version": 3
   },
   "file_extension": ".py",
   "mimetype": "text/x-python",
   "name": "python",
   "nbconvert_exporter": "python",
   "pygments_lexer": "ipython3",
   "version": "3.6.9"
  }
 },
 "nbformat": 4,
 "nbformat_minor": 2
}
